{
  "nbformat": 4,
  "nbformat_minor": 0,
  "metadata": {
    "colab": {
      "name": "Chapter2. Dictionary",
      "provenance": [],
      "authorship_tag": "ABX9TyN1UMmNwvwqhFuQZ8X291B1",
      "include_colab_link": true
    },
    "kernelspec": {
      "name": "python3",
      "display_name": "Python 3"
    }
  },
  "cells": [
    {
      "cell_type": "markdown",
      "metadata": {
        "id": "view-in-github",
        "colab_type": "text"
      },
      "source": [
        "<a href=\"https://colab.research.google.com/github/junuimoon/Doit-PYTHON/blob/master/Chapter2_Dictionary.ipynb\" target=\"_parent\"><img src=\"https://colab.research.google.com/assets/colab-badge.svg\" alt=\"Open In Colab\"/></a>"
      ]
    },
    {
      "cell_type": "code",
      "metadata": {
        "id": "TtA81d1zMxCg",
        "colab_type": "code",
        "colab": {}
      },
      "source": [
        "#서로 대응관계를 나타내는 자료형을 연관 배열 혹은 해시라고 한다. 파이썬에서는 얘가 딕셔너리라고 표현됨.\n",
        "# 순차적으로 나열되는 것이 아니라, 키와 그에 따른 밸류를 갖게 됨. (순차검색이 아니라, 원하는 단어가 있는지만 확인)"
      ],
      "execution_count": 0,
      "outputs": []
    },
    {
      "cell_type": "code",
      "metadata": {
        "id": "mciad6HERG8D",
        "colab_type": "code",
        "colab": {}
      },
      "source": [
        "#딕셔너리 관련 함수"
      ],
      "execution_count": 0,
      "outputs": []
    },
    {
      "cell_type": "code",
      "metadata": {
        "id": "_dHXTQq5PooY",
        "colab_type": "code",
        "colab": {}
      },
      "source": [
        "#{Key1 : Value1, Key2 : Value2, Key3 : Value3, ...}\n",
        "\n",
        "dic = {'name':'pey', 'phone':'01199933233', 'birth':'1118'}\n",
        "\n"
      ],
      "execution_count": 0,
      "outputs": []
    },
    {
      "cell_type": "code",
      "metadata": {
        "id": "0IQ8nCMKPyYQ",
        "colab_type": "code",
        "colab": {}
      },
      "source": [
        "#딕셔너리 쌍 추가, 삭제하기"
      ],
      "execution_count": 0,
      "outputs": []
    },
    {
      "cell_type": "code",
      "metadata": {
        "id": "mK01qaGCQBYT",
        "colab_type": "code",
        "colab": {
          "base_uri": "https://localhost:8080/",
          "height": 35
        },
        "outputId": "db643f61-81e4-49e7-f0dc-e8b4690537b9"
      },
      "source": [
        "a = {1:'a'}\n",
        "a[2] = 'b'\n",
        "a"
      ],
      "execution_count": 5,
      "outputs": [
        {
          "output_type": "execute_result",
          "data": {
            "text/plain": [
              "{1: 'a', 2: 'b'}"
            ]
          },
          "metadata": {
            "tags": []
          },
          "execution_count": 5
        }
      ]
    },
    {
      "cell_type": "code",
      "metadata": {
        "id": "Dt6vRMNCQFr7",
        "colab_type": "code",
        "colab": {
          "base_uri": "https://localhost:8080/",
          "height": 35
        },
        "outputId": "26e6bf2d-cd00-42a7-9d29-463da1686b79"
      },
      "source": [
        "a['name'] ='pey'\n",
        "a"
      ],
      "execution_count": 6,
      "outputs": [
        {
          "output_type": "execute_result",
          "data": {
            "text/plain": [
              "{1: 'a', 2: 'b', 'name': 'pey'}"
            ]
          },
          "metadata": {
            "tags": []
          },
          "execution_count": 6
        }
      ]
    },
    {
      "cell_type": "code",
      "metadata": {
        "id": "A0TkdnhsQKAq",
        "colab_type": "code",
        "colab": {
          "base_uri": "https://localhost:8080/",
          "height": 35
        },
        "outputId": "9ad45608-d9fe-4dfa-ef50-cb0b6740b77b"
      },
      "source": [
        "a[3] = [1, 2, 3]\n",
        "a"
      ],
      "execution_count": 7,
      "outputs": [
        {
          "output_type": "execute_result",
          "data": {
            "text/plain": [
              "{1: 'a', 2: 'b', 3: [1, 2, 3], 'name': 'pey'}"
            ]
          },
          "metadata": {
            "tags": []
          },
          "execution_count": 7
        }
      ]
    },
    {
      "cell_type": "code",
      "metadata": {
        "id": "PXfTolvPQOQt",
        "colab_type": "code",
        "colab": {
          "base_uri": "https://localhost:8080/",
          "height": 35
        },
        "outputId": "b5ae1f5b-3451-47b9-c244-0e07754f4a46"
      },
      "source": [
        "del a[2] \n",
        "#인덱스가 아니라 key의 값에 따라 달라짐에 유의할 것\n",
        "\n",
        "a"
      ],
      "execution_count": 12,
      "outputs": [
        {
          "output_type": "execute_result",
          "data": {
            "text/plain": [
              "{3: [1, 2, 3], 'name': 'pey'}"
            ]
          },
          "metadata": {
            "tags": []
          },
          "execution_count": 12
        }
      ]
    },
    {
      "cell_type": "code",
      "metadata": {
        "id": "mqvyLBc_QSZt",
        "colab_type": "code",
        "colab": {
          "base_uri": "https://localhost:8080/",
          "height": 35
        },
        "outputId": "93951121-1079-4645-9fb0-bcc8ed47fd14"
      },
      "source": [
        "#딕셔너리에서 키 이용하여 밸류 얻기\n",
        "grade = {'pey': 10, 'juliet': 99}\n",
        "grade['pey']"
      ],
      "execution_count": 13,
      "outputs": [
        {
          "output_type": "execute_result",
          "data": {
            "text/plain": [
              "10"
            ]
          },
          "metadata": {
            "tags": []
          },
          "execution_count": 13
        }
      ]
    },
    {
      "cell_type": "code",
      "metadata": {
        "id": "z_YlsqMlQt5B",
        "colab_type": "code",
        "colab": {
          "base_uri": "https://localhost:8080/",
          "height": 35
        },
        "outputId": "e5b276d0-c316-44ea-e10c-d438714cf5ea"
      },
      "source": [
        "#딕셔너리 만들때 주의할 사항\n",
        "# 중복되는 키값있으면 하나 빼고 나머지는 싹 다 무시됨.\n",
        "a = {1:'a', 2:'b'}\n",
        "a"
      ],
      "execution_count": 14,
      "outputs": [
        {
          "output_type": "execute_result",
          "data": {
            "text/plain": [
              "{1: 'a', 2: 'b'}"
            ]
          },
          "metadata": {
            "tags": []
          },
          "execution_count": 14
        }
      ]
    },
    {
      "cell_type": "code",
      "metadata": {
        "id": "UZu66ekLRAqx",
        "colab_type": "code",
        "colab": {}
      },
      "source": [
        "# 키 리스트 만들기\n",
        "a = {'name':'pey', 'phone':'01199933233', 'birth':'1118'}"
      ],
      "execution_count": 0,
      "outputs": []
    }
  ]
}