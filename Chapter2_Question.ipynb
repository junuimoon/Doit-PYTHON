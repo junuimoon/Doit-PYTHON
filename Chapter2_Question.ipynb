{
  "nbformat": 4,
  "nbformat_minor": 0,
  "metadata": {
    "colab": {
      "name": "Chapter2. Question",
      "provenance": [],
      "authorship_tag": "ABX9TyO2yUDmgfpcSSLmpLzoZxo2",
      "include_colab_link": true
    },
    "kernelspec": {
      "name": "python3",
      "display_name": "Python 3"
    }
  },
  "cells": [
    {
      "cell_type": "markdown",
      "metadata": {
        "id": "view-in-github",
        "colab_type": "text"
      },
      "source": [
        "<a href=\"https://colab.research.google.com/github/junuimoon/Doit-PYTHON/blob/master/Chapter2_Question.ipynb\" target=\"_parent\"><img src=\"https://colab.research.google.com/assets/colab-badge.svg\" alt=\"Open In Colab\"/></a>"
      ]
    },
    {
      "cell_type": "code",
      "metadata": {
        "id": "XypBpyxqpwL4",
        "colab_type": "code",
        "colab": {
          "base_uri": "https://localhost:8080/",
          "height": 35
        },
        "outputId": "6bc78211-7590-4376-a087-53cfa3552cc6"
      },
      "source": [
        "#number 1\n",
        "\n",
        "korean = 80\n",
        "english = 75\n",
        "math = 55\n",
        "\n",
        "average =  (korean + english + math) / 3\n",
        "print(average)"
      ],
      "execution_count": 1,
      "outputs": [
        {
          "output_type": "stream",
          "text": [
            "70.0\n"
          ],
          "name": "stdout"
        }
      ]
    },
    {
      "cell_type": "code",
      "metadata": {
        "id": "BLtFMZszp8XI",
        "colab_type": "code",
        "colab": {
          "base_uri": "https://localhost:8080/",
          "height": 35
        },
        "outputId": "e0592719-6b37-4eaf-f900-d8297e73ccb7"
      },
      "source": [
        "#number 2\n",
        "\n",
        "number = 13 % 2\n",
        "if number == 1:\n",
        "    print('홀수입니다')\n",
        "else:\n",
        "    print('짝수입니다.')\n"
      ],
      "execution_count": 2,
      "outputs": [
        {
          "output_type": "stream",
          "text": [
            "홀수입니다\n"
          ],
          "name": "stdout"
        }
      ]
    },
    {
      "cell_type": "code",
      "metadata": {
        "id": "AYAbUAI-qXHV",
        "colab_type": "code",
        "colab": {
          "base_uri": "https://localhost:8080/",
          "height": 53
        },
        "outputId": "ef5cc730-b66d-4e54-bff2-524f71a3c3b7"
      },
      "source": [
        "#number 3\n",
        "pin = \"881120-1068234\"\n",
        "birthday = '19' + str( pin[:6])\n",
        "print(birthday)\n",
        "el = str(pin[7:])\n",
        "print(el)"
      ],
      "execution_count": 8,
      "outputs": [
        {
          "output_type": "stream",
          "text": [
            "19881120\n",
            "1068234\n"
          ],
          "name": "stdout"
        }
      ]
    },
    {
      "cell_type": "code",
      "metadata": {
        "id": "WHQu2kzLqwyA",
        "colab_type": "code",
        "colab": {
          "base_uri": "https://localhost:8080/",
          "height": 35
        },
        "outputId": "b059bcb4-9ae0-4df0-b17d-f7700be7d027"
      },
      "source": [
        "#number 4\n",
        "pin = \"980530-1200111\"\n",
        "if pin[7] == 1:\n",
        "    print(\"남성\")\n",
        "else:\n",
        "    print('여성')"
      ],
      "execution_count": 11,
      "outputs": [
        {
          "output_type": "stream",
          "text": [
            "여성\n"
          ],
          "name": "stdout"
        }
      ]
    },
    {
      "cell_type": "code",
      "metadata": {
        "id": "cUZ6E0B1rSlP",
        "colab_type": "code",
        "colab": {
          "base_uri": "https://localhost:8080/",
          "height": 35
        },
        "outputId": "0669fe56-89c2-4a47-b0e5-5749effe1918"
      },
      "source": [
        "#number 5\n",
        "string = 'a:b:c:d'\n",
        "\n",
        "string.replace(':', '#')"
      ],
      "execution_count": 12,
      "outputs": [
        {
          "output_type": "execute_result",
          "data": {
            "text/plain": [
              "'a#b#c#d'"
            ]
          },
          "metadata": {
            "tags": []
          },
          "execution_count": 12
        }
      ]
    },
    {
      "cell_type": "code",
      "metadata": {
        "id": "o5LUlEPWrrbe",
        "colab_type": "code",
        "colab": {
          "base_uri": "https://localhost:8080/",
          "height": 35
        },
        "outputId": "1de6790e-9f30-44f1-96c7-756f5f4e28d6"
      },
      "source": [
        "#number 6\n",
        "a = [1, 3, 5, 4, 2]\n",
        "a.sort()\n",
        "a.reverse()\n",
        "print(a)"
      ],
      "execution_count": 13,
      "outputs": [
        {
          "output_type": "stream",
          "text": [
            "[5, 4, 3, 2, 1]\n"
          ],
          "name": "stdout"
        }
      ]
    },
    {
      "cell_type": "code",
      "metadata": {
        "id": "owyjdLRrsgyI",
        "colab_type": "code",
        "colab": {
          "base_uri": "https://localhost:8080/",
          "height": 35
        },
        "outputId": "0ad0337a-4150-4086-a477-cba898ca4e97"
      },
      "source": [
        "#number 7\n",
        "a = ['life', 'is', 'too', 'short']\n",
        "\n",
        "result = \" \".join(a) ## join 함수 -> 앞쪽에 어떤 걸 이용햐여 붙이냐를 이용\n",
        "a"
      ],
      "execution_count": 14,
      "outputs": [
        {
          "output_type": "execute_result",
          "data": {
            "text/plain": [
              "['life', 'is', 'too', 'short']"
            ]
          },
          "metadata": {
            "tags": []
          },
          "execution_count": 14
        }
      ]
    },
    {
      "cell_type": "code",
      "metadata": {
        "id": "MRRvhS88s3Xt",
        "colab_type": "code",
        "colab": {
          "base_uri": "https://localhost:8080/",
          "height": 35
        },
        "outputId": "676f7be2-d058-44e4-9ac7-154f7d633f46"
      },
      "source": [
        "#number 8\n",
        "\n",
        "a = (1, 2, 3)\n",
        "b = (4,)\n",
        "\n",
        "a + b\n",
        "print(a + b)"
      ],
      "execution_count": 15,
      "outputs": [
        {
          "output_type": "stream",
          "text": [
            "(1, 2, 3, 4)\n"
          ],
          "name": "stdout"
        }
      ]
    },
    {
      "cell_type": "code",
      "metadata": {
        "id": "92LNXsWGtILe",
        "colab_type": "code",
        "colab": {
          "base_uri": "https://localhost:8080/",
          "height": 35
        },
        "outputId": "09bffe58-7684-4395-b79a-7f238842a311"
      },
      "source": [
        "#number 10\n",
        "\n",
        "a = {'A':90, 'B':80, 'C':70}\n",
        "a.pop('B')"
      ],
      "execution_count": 16,
      "outputs": [
        {
          "output_type": "execute_result",
          "data": {
            "text/plain": [
              "80"
            ]
          },
          "metadata": {
            "tags": []
          },
          "execution_count": 16
        }
      ]
    },
    {
      "cell_type": "code",
      "metadata": {
        "id": "DufS99mQt3NC",
        "colab_type": "code",
        "colab": {
          "base_uri": "https://localhost:8080/",
          "height": 35
        },
        "outputId": "ecd02394-fa59-4881-b1ec-3151e1fff2c4"
      },
      "source": [
        "a"
      ],
      "execution_count": 17,
      "outputs": [
        {
          "output_type": "execute_result",
          "data": {
            "text/plain": [
              "{'A': 90, 'C': 70}"
            ]
          },
          "metadata": {
            "tags": []
          },
          "execution_count": 17
        }
      ]
    },
    {
      "cell_type": "code",
      "metadata": {
        "id": "FdwE-WGvt4xo",
        "colab_type": "code",
        "colab": {
          "base_uri": "https://localhost:8080/",
          "height": 35
        },
        "outputId": "9c10a30e-7686-4583-90ef-d379ad75f98f"
      },
      "source": [
        "#number 11\n",
        "a = [1, 1, 1, 2, 2, 3, 3, 4, 4, 5]\n",
        "\n",
        "aSet = set(a)\n",
        "b = list(aSet)\n",
        "print(b)"
      ],
      "execution_count": 19,
      "outputs": [
        {
          "output_type": "stream",
          "text": [
            "[1, 2, 3, 4, 5]\n"
          ],
          "name": "stdout"
        }
      ]
    },
    {
      "cell_type": "code",
      "metadata": {
        "id": "yfmsy-CEuLDZ",
        "colab_type": "code",
        "colab": {}
      },
      "source": [
        ""
      ],
      "execution_count": 0,
      "outputs": []
    }
  ]
}