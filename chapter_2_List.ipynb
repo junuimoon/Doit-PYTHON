{
  "nbformat": 4,
  "nbformat_minor": 0,
  "metadata": {
    "colab": {
      "name": "chapter 2. List",
      "provenance": [],
      "toc_visible": true,
      "authorship_tag": "ABX9TyPj/JV3Vj/Q13H7hEGQliLv",
      "include_colab_link": true
    },
    "kernelspec": {
      "name": "python3",
      "display_name": "Python 3"
    }
  },
  "cells": [
    {
      "cell_type": "markdown",
      "metadata": {
        "id": "view-in-github",
        "colab_type": "text"
      },
      "source": [
        "<a href=\"https://colab.research.google.com/github/junuimoon/Doit-PYTHON/blob/master/chapter_2_List.ipynb\" target=\"_parent\"><img src=\"https://colab.research.google.com/assets/colab-badge.svg\" alt=\"Open In Colab\"/></a>"
      ]
    },
    {
      "cell_type": "code",
      "metadata": {
        "id": "NbZnHBxkP1oB",
        "colab_type": "code",
        "colab": {}
      },
      "source": [
        "#리스트에서의 값 수정/ 삭제 -> del(객체)함수 이용\n",
        "#리스트에서의 요소 추가 -> append(추가할 숫자)(리스트도 가능)\n",
        "#리스트에서의 요소 삽입 -> insert(넣을 자리, 넣을 수)\n",
        "#리스트에서의 요소 제거 -> remove(없앨 수) --->첫번째로 나온 애만 사라짐에 주의\n",
        "                            #pop(인덱스, 아무것도 없을땐 마지막 수) ---> 값 돌려주고, 걘 삭제\n",
        "#리스트 뒤집기 - reverse()\n",
        "#위치 반환 - index(리스트 인덱스)\n",
        "#리스트에 포함된 x개수 세기 -> count(개수 셀 수)\n",
        "#리스트 확장 - extend(리스트 이름)\n",
        "\n",
        "\n"
      ],
      "execution_count": 0,
      "outputs": []
    },
    {
      "cell_type": "markdown",
      "metadata": {
        "id": "hZ-RJuZMP2as",
        "colab_type": "text"
      },
      "source": [
        "02-3.리스트 자료형"
      ]
    },
    {
      "cell_type": "code",
      "metadata": {
        "id": "QjIyJaa4P8Ft",
        "colab_type": "code",
        "colab": {}
      },
      "source": [
        "odd = [1, 3, 5, 7, 9]"
      ],
      "execution_count": 0,
      "outputs": []
    },
    {
      "cell_type": "code",
      "metadata": {
        "id": "y5PTTO5kP_Mh",
        "colab_type": "code",
        "colab": {}
      },
      "source": [
        "a = []\n",
        "b = [1, 2, 3]\n",
        "c = ['Life', 'is', 'too', 'short']\n",
        "d = [1, 2, 'life', 'is']\n",
        "e = [1, 2, ['Life', 'is']]"
      ],
      "execution_count": 0,
      "outputs": []
    },
    {
      "cell_type": "markdown",
      "metadata": {
        "id": "1w7pMnWvQYWT",
        "colab_type": "text"
      },
      "source": [
        "리스트의 인덱싱과 슬라이싱\n"
      ]
    },
    {
      "cell_type": "code",
      "metadata": {
        "id": "irf1bDpAQb9X",
        "colab_type": "code",
        "outputId": "ce3417fe-ca67-489a-a56c-75996990195a",
        "colab": {
          "base_uri": "https://localhost:8080/",
          "height": 35
        }
      },
      "source": [
        "a = [1, 2, 3]\n",
        "a"
      ],
      "execution_count": 0,
      "outputs": [
        {
          "output_type": "execute_result",
          "data": {
            "text/plain": [
              "[1, 2, 3]"
            ]
          },
          "metadata": {
            "tags": []
          },
          "execution_count": 3
        }
      ]
    },
    {
      "cell_type": "code",
      "metadata": {
        "id": "zlrZ5bc8Qeob",
        "colab_type": "code",
        "outputId": "26f436ab-6cdd-4838-bcb3-e63a3bd0a8d3",
        "colab": {
          "base_uri": "https://localhost:8080/",
          "height": 35
        }
      },
      "source": [
        "a[0]"
      ],
      "execution_count": 0,
      "outputs": [
        {
          "output_type": "execute_result",
          "data": {
            "text/plain": [
              "1"
            ]
          },
          "metadata": {
            "tags": []
          },
          "execution_count": 4
        }
      ]
    },
    {
      "cell_type": "code",
      "metadata": {
        "id": "z6scRf6qQgH5",
        "colab_type": "code",
        "outputId": "5a12e68f-9f12-45f1-f95b-15015ad69d6d",
        "colab": {
          "base_uri": "https://localhost:8080/",
          "height": 35
        }
      },
      "source": [
        "a[0] + a[2]"
      ],
      "execution_count": 0,
      "outputs": [
        {
          "output_type": "execute_result",
          "data": {
            "text/plain": [
              "4"
            ]
          },
          "metadata": {
            "tags": []
          },
          "execution_count": 5
        }
      ]
    },
    {
      "cell_type": "code",
      "metadata": {
        "id": "0U9hmROaQhxV",
        "colab_type": "code",
        "outputId": "c96d27fb-65a7-4128-c7dc-31b448a769b8",
        "colab": {
          "base_uri": "https://localhost:8080/",
          "height": 35
        }
      },
      "source": [
        "a[-1]"
      ],
      "execution_count": 0,
      "outputs": [
        {
          "output_type": "execute_result",
          "data": {
            "text/plain": [
              "3"
            ]
          },
          "metadata": {
            "tags": []
          },
          "execution_count": 6
        }
      ]
    },
    {
      "cell_type": "code",
      "metadata": {
        "id": "NyZncRSKQllc",
        "colab_type": "code",
        "colab": {}
      },
      "source": [
        "a = [1, 2, 3, ['a', 'b', 'c']]"
      ],
      "execution_count": 0,
      "outputs": []
    },
    {
      "cell_type": "code",
      "metadata": {
        "id": "jQ7wz2kYQqr2",
        "colab_type": "code",
        "outputId": "0179c284-9653-45e0-b88e-0dec94a0e4cd",
        "colab": {
          "base_uri": "https://localhost:8080/",
          "height": 35
        }
      },
      "source": [
        "a[0]"
      ],
      "execution_count": 0,
      "outputs": [
        {
          "output_type": "execute_result",
          "data": {
            "text/plain": [
              "1"
            ]
          },
          "metadata": {
            "tags": []
          },
          "execution_count": 8
        }
      ]
    },
    {
      "cell_type": "code",
      "metadata": {
        "id": "BLra35lgQryt",
        "colab_type": "code",
        "outputId": "2c7e0bac-2601-4e28-cee5-bdab8ef0ba51",
        "colab": {
          "base_uri": "https://localhost:8080/",
          "height": 35
        }
      },
      "source": [
        "a[-1]"
      ],
      "execution_count": 0,
      "outputs": [
        {
          "output_type": "execute_result",
          "data": {
            "text/plain": [
              "['a', 'b', 'c']"
            ]
          },
          "metadata": {
            "tags": []
          },
          "execution_count": 9
        }
      ]
    },
    {
      "cell_type": "code",
      "metadata": {
        "id": "WtAa_MgIQsyd",
        "colab_type": "code",
        "outputId": "ba4c5670-675c-4d51-81ba-6159028adb66",
        "colab": {
          "base_uri": "https://localhost:8080/",
          "height": 35
        }
      },
      "source": [
        "a[3]"
      ],
      "execution_count": 0,
      "outputs": [
        {
          "output_type": "execute_result",
          "data": {
            "text/plain": [
              "['a', 'b', 'c']"
            ]
          },
          "metadata": {
            "tags": []
          },
          "execution_count": 10
        }
      ]
    },
    {
      "cell_type": "code",
      "metadata": {
        "id": "D7nXtvGMQtfU",
        "colab_type": "code",
        "outputId": "c159a877-eb54-409e-ceee-9008fe5690a2",
        "colab": {
          "base_uri": "https://localhost:8080/",
          "height": 35
        }
      },
      "source": [
        "a[-1][0]"
      ],
      "execution_count": 0,
      "outputs": [
        {
          "output_type": "execute_result",
          "data": {
            "text/plain": [
              "'a'"
            ]
          },
          "metadata": {
            "tags": []
          },
          "execution_count": 11
        }
      ]
    },
    {
      "cell_type": "code",
      "metadata": {
        "id": "oyl6Xyl9R4O2",
        "colab_type": "code",
        "colab": {}
      },
      "source": [
        "#리스트의 슬라이싱"
      ],
      "execution_count": 0,
      "outputs": []
    },
    {
      "cell_type": "code",
      "metadata": {
        "id": "Jl6WEFwgR-s5",
        "colab_type": "code",
        "outputId": "67abb464-1690-4064-fd1c-d666f4e2800b",
        "colab": {
          "base_uri": "https://localhost:8080/",
          "height": 35
        }
      },
      "source": [
        "a = [1, 2, 3, 4, 5]\n",
        "a[0:2]"
      ],
      "execution_count": 0,
      "outputs": [
        {
          "output_type": "execute_result",
          "data": {
            "text/plain": [
              "[1, 2]"
            ]
          },
          "metadata": {
            "tags": []
          },
          "execution_count": 13
        }
      ]
    },
    {
      "cell_type": "code",
      "metadata": {
        "id": "p6vkGn-pSB5v",
        "colab_type": "code",
        "outputId": "17cd6a1c-8558-439a-bd49-cd610aa52d5e",
        "colab": {
          "base_uri": "https://localhost:8080/",
          "height": 35
        }
      },
      "source": [
        "b = a[:2]\n",
        "c = a[2:]\n",
        "b"
      ],
      "execution_count": 0,
      "outputs": [
        {
          "output_type": "execute_result",
          "data": {
            "text/plain": [
              "[1, 2]"
            ]
          },
          "metadata": {
            "tags": []
          },
          "execution_count": 14
        }
      ]
    },
    {
      "cell_type": "code",
      "metadata": {
        "id": "6K9MzGgRSJm2",
        "colab_type": "code",
        "outputId": "93f2d35f-648a-4500-ae5c-4bd12edf68fe",
        "colab": {
          "base_uri": "https://localhost:8080/",
          "height": 35
        }
      },
      "source": [
        "c"
      ],
      "execution_count": 0,
      "outputs": [
        {
          "output_type": "execute_result",
          "data": {
            "text/plain": [
              "[3, 4, 5]"
            ]
          },
          "metadata": {
            "tags": []
          },
          "execution_count": 15
        }
      ]
    },
    {
      "cell_type": "code",
      "metadata": {
        "id": "6y5JYojSSKSa",
        "colab_type": "code",
        "colab": {}
      },
      "source": [
        "#나혼자 코딩\n",
        "A = [1, 2, 3, 4, 5]\n",
        "b = A[2:4]"
      ],
      "execution_count": 0,
      "outputs": []
    },
    {
      "cell_type": "code",
      "metadata": {
        "id": "GgDJC_tBSW36",
        "colab_type": "code",
        "outputId": "6b32cac6-99bc-45d5-b9c9-14562a934254",
        "colab": {
          "base_uri": "https://localhost:8080/",
          "height": 35
        }
      },
      "source": [
        "b"
      ],
      "execution_count": 0,
      "outputs": [
        {
          "output_type": "execute_result",
          "data": {
            "text/plain": [
              "[3, 4]"
            ]
          },
          "metadata": {
            "tags": []
          },
          "execution_count": 17
        }
      ]
    },
    {
      "cell_type": "code",
      "metadata": {
        "id": "5wgJnP4PSXcz",
        "colab_type": "code",
        "outputId": "00016b75-4302-4d96-ab42-dc7003b6d295",
        "colab": {
          "base_uri": "https://localhost:8080/",
          "height": 35
        }
      },
      "source": [
        "#리스트 연산하기\n",
        " a = [1, 2, 3]\n",
        " b = [4, 5, 6]\n",
        "\n",
        " a + b\n",
        " "
      ],
      "execution_count": 0,
      "outputs": [
        {
          "output_type": "execute_result",
          "data": {
            "text/plain": [
              "[1, 2, 3, 4, 5, 6]"
            ]
          },
          "metadata": {
            "tags": []
          },
          "execution_count": 18
        }
      ]
    },
    {
      "cell_type": "code",
      "metadata": {
        "id": "fM47xgIOSkFA",
        "colab_type": "code",
        "outputId": "1762d913-a7e5-4ce5-bc19-47e9814ed4f5",
        "colab": {
          "base_uri": "https://localhost:8080/",
          "height": 35
        }
      },
      "source": [
        "a * 3"
      ],
      "execution_count": 0,
      "outputs": [
        {
          "output_type": "execute_result",
          "data": {
            "text/plain": [
              "[1, 2, 3, 1, 2, 3, 1, 2, 3]"
            ]
          },
          "metadata": {
            "tags": []
          },
          "execution_count": 19
        }
      ]
    },
    {
      "cell_type": "code",
      "metadata": {
        "id": "5xY83cd1Slyy",
        "colab_type": "code",
        "outputId": "fc72cff4-dbfc-4595-f138-71bc73c3b962",
        "colab": {
          "base_uri": "https://localhost:8080/",
          "height": 35
        }
      },
      "source": [
        "len(a)"
      ],
      "execution_count": 0,
      "outputs": [
        {
          "output_type": "execute_result",
          "data": {
            "text/plain": [
              "3"
            ]
          },
          "metadata": {
            "tags": []
          },
          "execution_count": 20
        }
      ]
    },
    {
      "cell_type": "code",
      "metadata": {
        "id": "kSvhm6MmSoAy",
        "colab_type": "code",
        "outputId": "4f9b6e5b-ce89-4f65-c4ab-4155131a9025",
        "colab": {
          "base_uri": "https://localhost:8080/",
          "height": 35
        }
      },
      "source": [
        "#리스트에서 값 수정하기\n",
        "a = [1, 2, 3]\n",
        "a[2] = 4\n",
        "a"
      ],
      "execution_count": 0,
      "outputs": [
        {
          "output_type": "execute_result",
          "data": {
            "text/plain": [
              "[1, 2, 4]"
            ]
          },
          "metadata": {
            "tags": []
          },
          "execution_count": 21
        }
      ]
    },
    {
      "cell_type": "code",
      "metadata": {
        "id": "0B-ogyjqUR-a",
        "colab_type": "code",
        "outputId": "eb9c0613-7faa-4a68-b18b-40412d728eee",
        "colab": {
          "base_uri": "https://localhost:8080/",
          "height": 35
        }
      },
      "source": [
        "#del 함수 사용해 리스트 요소 삭제하기\n",
        "a = [1, 2, 3]\n",
        "del a[1]\n",
        "a"
      ],
      "execution_count": 0,
      "outputs": [
        {
          "output_type": "execute_result",
          "data": {
            "text/plain": [
              "[1, 3]"
            ]
          },
          "metadata": {
            "tags": []
          },
          "execution_count": 22
        }
      ]
    },
    {
      "cell_type": "code",
      "metadata": {
        "id": "RQOvn0mbUYmY",
        "colab_type": "code",
        "outputId": "367f83de-e106-42eb-c41e-ac264a8dc0bb",
        "colab": {
          "base_uri": "https://localhost:8080/",
          "height": 35
        }
      },
      "source": [
        "a = [1, 2, 3, 4, 5]\n",
        "del a[2:]\n",
        "a "
      ],
      "execution_count": 0,
      "outputs": [
        {
          "output_type": "execute_result",
          "data": {
            "text/plain": [
              "[1, 2]"
            ]
          },
          "metadata": {
            "tags": []
          },
          "execution_count": 23
        }
      ]
    },
    {
      "cell_type": "code",
      "metadata": {
        "id": "TvvsPj6gVccj",
        "colab_type": "code",
        "outputId": "b479b8bd-2205-4e5f-bd1b-8d0db4358d94",
        "colab": {
          "base_uri": "https://localhost:8080/",
          "height": 35
        }
      },
      "source": [
        "a = [1, 2, 3]\n",
        "a.append(4)\n",
        "a"
      ],
      "execution_count": 0,
      "outputs": [
        {
          "output_type": "execute_result",
          "data": {
            "text/plain": [
              "[1, 2, 3, 4]"
            ]
          },
          "metadata": {
            "tags": []
          },
          "execution_count": 24
        }
      ]
    },
    {
      "cell_type": "code",
      "metadata": {
        "id": "285ZzhWQVg5i",
        "colab_type": "code",
        "outputId": "925b5cb5-a17c-4d51-924f-2eb8609a5b35",
        "colab": {
          "base_uri": "https://localhost:8080/",
          "height": 35
        }
      },
      "source": [
        "a.append([5, 6])\n",
        "a"
      ],
      "execution_count": 0,
      "outputs": [
        {
          "output_type": "execute_result",
          "data": {
            "text/plain": [
              "[1, 2, 3, 4, [5, 6]]"
            ]
          },
          "metadata": {
            "tags": []
          },
          "execution_count": 25
        }
      ]
    },
    {
      "cell_type": "code",
      "metadata": {
        "id": "-_NC9PznVlb5",
        "colab_type": "code",
        "colab": {}
      },
      "source": [
        "a = [1, 4, 3, 2]\n",
        "a.sort()"
      ],
      "execution_count": 0,
      "outputs": []
    },
    {
      "cell_type": "code",
      "metadata": {
        "id": "SGJVPJapVpVE",
        "colab_type": "code",
        "outputId": "0aa94379-d86d-467a-c6c6-69887c2e72bd",
        "colab": {
          "base_uri": "https://localhost:8080/",
          "height": 35
        }
      },
      "source": [
        "a"
      ],
      "execution_count": 0,
      "outputs": [
        {
          "output_type": "execute_result",
          "data": {
            "text/plain": [
              "[1, 2, 3, 4]"
            ]
          },
          "metadata": {
            "tags": []
          },
          "execution_count": 27
        }
      ]
    },
    {
      "cell_type": "code",
      "metadata": {
        "id": "MalFGWS4Vpt-",
        "colab_type": "code",
        "outputId": "0edf3a7a-611f-428a-d850-37bf42e3ada9",
        "colab": {
          "base_uri": "https://localhost:8080/",
          "height": 35
        }
      },
      "source": [
        "a = ['a', 'c', 'b']\n",
        "a.sort()\n",
        "a"
      ],
      "execution_count": 0,
      "outputs": [
        {
          "output_type": "execute_result",
          "data": {
            "text/plain": [
              "['a', 'b', 'c']"
            ]
          },
          "metadata": {
            "tags": []
          },
          "execution_count": 28
        }
      ]
    },
    {
      "cell_type": "code",
      "metadata": {
        "id": "Rr9dJN1bVzJm",
        "colab_type": "code",
        "colab": {}
      },
      "source": [
        "#리스트 뒤집기\n",
        "a = ['a', 'c', 'b']\n",
        "a.reverse()"
      ],
      "execution_count": 0,
      "outputs": []
    },
    {
      "cell_type": "code",
      "metadata": {
        "id": "ngnbI7PsiLfJ",
        "colab_type": "code",
        "outputId": "e722b8aa-0910-465b-93af-a3ad2ec16773",
        "colab": {
          "base_uri": "https://localhost:8080/",
          "height": 35
        }
      },
      "source": [
        "a"
      ],
      "execution_count": 0,
      "outputs": [
        {
          "output_type": "execute_result",
          "data": {
            "text/plain": [
              "['b', 'c', 'a']"
            ]
          },
          "metadata": {
            "tags": []
          },
          "execution_count": 30
        }
      ]
    },
    {
      "cell_type": "code",
      "metadata": {
        "id": "CT-v9VKAiL2C",
        "colab_type": "code",
        "colab": {}
      },
      "source": [
        "a = [1, 2, 3, 1, 2, 3]\n",
        "# 첫번째만 사라지는 것 주의하기.\n",
        "a.remove(3)"
      ],
      "execution_count": 0,
      "outputs": []
    },
    {
      "cell_type": "code",
      "metadata": {
        "id": "It0T2SQ-id41",
        "colab_type": "code",
        "outputId": "2cad1bd1-80d8-4f2c-d36c-88d58d32e154",
        "colab": {
          "base_uri": "https://localhost:8080/",
          "height": 35
        }
      },
      "source": [
        "a"
      ],
      "execution_count": 0,
      "outputs": [
        {
          "output_type": "execute_result",
          "data": {
            "text/plain": [
              "[1, 2, 1, 2, 3]"
            ]
          },
          "metadata": {
            "tags": []
          },
          "execution_count": 32
        }
      ]
    },
    {
      "cell_type": "code",
      "metadata": {
        "id": "rQkvKmiVie_Z",
        "colab_type": "code",
        "outputId": "681b62df-51a7-43ee-8bac-5caca6472fcb",
        "colab": {
          "base_uri": "https://localhost:8080/",
          "height": 35
        }
      },
      "source": [
        "a = [1, 2, 3]\n",
        "a.pop()"
      ],
      "execution_count": 0,
      "outputs": [
        {
          "output_type": "execute_result",
          "data": {
            "text/plain": [
              "3"
            ]
          },
          "metadata": {
            "tags": []
          },
          "execution_count": 33
        }
      ]
    },
    {
      "cell_type": "code",
      "metadata": {
        "id": "Lt0hGltoioUC",
        "colab_type": "code",
        "outputId": "8e556b69-7251-459a-e922-ccffab49281f",
        "colab": {
          "base_uri": "https://localhost:8080/",
          "height": 35
        }
      },
      "source": [
        "a"
      ],
      "execution_count": 0,
      "outputs": [
        {
          "output_type": "execute_result",
          "data": {
            "text/plain": [
              "[1, 2]"
            ]
          },
          "metadata": {
            "tags": []
          },
          "execution_count": 34
        }
      ]
    },
    {
      "cell_type": "code",
      "metadata": {
        "id": "AvLnU4EQipGH",
        "colab_type": "code",
        "outputId": "bc151a9a-e37c-42e5-d50b-7fa2b64ae299",
        "colab": {
          "base_uri": "https://localhost:8080/",
          "height": 35
        }
      },
      "source": [
        "a = [1, 2, 3]\n",
        "a.pop(1)"
      ],
      "execution_count": 0,
      "outputs": [
        {
          "output_type": "execute_result",
          "data": {
            "text/plain": [
              "2"
            ]
          },
          "metadata": {
            "tags": []
          },
          "execution_count": 35
        }
      ]
    },
    {
      "cell_type": "code",
      "metadata": {
        "id": "k_VDP5eeitOQ",
        "colab_type": "code",
        "outputId": "a03b9e91-9af5-4bd1-cb25-087f76011a08",
        "colab": {
          "base_uri": "https://localhost:8080/",
          "height": 35
        }
      },
      "source": [
        "a"
      ],
      "execution_count": 0,
      "outputs": [
        {
          "output_type": "execute_result",
          "data": {
            "text/plain": [
              "[1, 3]"
            ]
          },
          "metadata": {
            "tags": []
          },
          "execution_count": 36
        }
      ]
    },
    {
      "cell_type": "code",
      "metadata": {
        "id": "7QuUDKb5itx6",
        "colab_type": "code",
        "colab": {}
      },
      "source": [
        "#pop은 그 수가 사라지는 게 아니라 수의 인덱스가 사라지는 것임을 유의할것."
      ],
      "execution_count": 0,
      "outputs": []
    },
    {
      "cell_type": "code",
      "metadata": {
        "id": "sqnT1cC0HoY0",
        "colab_type": "code",
        "colab": {
          "base_uri": "https://localhost:8080/",
          "height": 35
        },
        "outputId": "f62e03e4-95b9-44e6-84a9-9a6989751c27"
      },
      "source": [
        "a = [1, 2, 3, 1]\n",
        "a.count(1)"
      ],
      "execution_count": 2,
      "outputs": [
        {
          "output_type": "execute_result",
          "data": {
            "text/plain": [
              "2"
            ]
          },
          "metadata": {
            "tags": []
          },
          "execution_count": 2
        }
      ]
    },
    {
      "cell_type": "code",
      "metadata": {
        "id": "n8P5X2IGH1Ac",
        "colab_type": "code",
        "colab": {
          "base_uri": "https://localhost:8080/",
          "height": 35
        },
        "outputId": "6fb072d7-79a2-44f3-c13c-fb4fd2a68831"
      },
      "source": [
        "a = [1, 2, 3]\n",
        "a.extend([4, 5])\n",
        "a"
      ],
      "execution_count": 3,
      "outputs": [
        {
          "output_type": "execute_result",
          "data": {
            "text/plain": [
              "[1, 2, 3, 4, 5]"
            ]
          },
          "metadata": {
            "tags": []
          },
          "execution_count": 3
        }
      ]
    },
    {
      "cell_type": "code",
      "metadata": {
        "id": "IOzXMpBwH7Uh",
        "colab_type": "code",
        "colab": {}
      },
      "source": [
        "#extend함수에서는 리스트만 올 수 있음을 주의\n"
      ],
      "execution_count": 0,
      "outputs": []
    },
    {
      "cell_type": "code",
      "metadata": {
        "id": "sB96oiRuIC2n",
        "colab_type": "code",
        "colab": {}
      },
      "source": [
        ""
      ],
      "execution_count": 0,
      "outputs": []
    }
  ]
}