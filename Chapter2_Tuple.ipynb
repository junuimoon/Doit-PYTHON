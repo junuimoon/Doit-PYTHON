{
  "nbformat": 4,
  "nbformat_minor": 0,
  "metadata": {
    "colab": {
      "name": "Chapter2. Tuple",
      "provenance": [],
      "authorship_tag": "ABX9TyNzJSztXHDkJ/7WHkAPG88T",
      "include_colab_link": true
    },
    "kernelspec": {
      "name": "python3",
      "display_name": "Python 3"
    }
  },
  "cells": [
    {
      "cell_type": "markdown",
      "metadata": {
        "id": "view-in-github",
        "colab_type": "text"
      },
      "source": [
        "<a href=\"https://colab.research.google.com/github/junuimoon/Doit-PYTHON/blob/master/Chapter2_Tuple.ipynb\" target=\"_parent\"><img src=\"https://colab.research.google.com/assets/colab-badge.svg\" alt=\"Open In Colab\"/></a>"
      ]
    },
    {
      "cell_type": "code",
      "metadata": {
        "id": "ejVC6KYQKx_A",
        "colab_type": "code",
        "colab": {}
      },
      "source": [
        "t1 = ()\n",
        "t2 = (1,) # 요소 한개만 있어도 콤마 붙이기\n",
        "t3 = (1, 2, 3)\n",
        "t4 = 1, 2, 3 # 괄호 안붙여도 괜찮\n"
      ],
      "execution_count": 0,
      "outputs": []
    },
    {
      "cell_type": "code",
      "metadata": {
        "id": "iSXbPPS3LRer",
        "colab_type": "code",
        "colab": {}
      },
      "source": [
        "# 튜플의 가장 큰 특징은 값을 변화시킬 수 없다! 나머지는 리스트와 완전히 동일"
      ],
      "execution_count": 0,
      "outputs": []
    },
    {
      "cell_type": "code",
      "metadata": {
        "id": "FN5hmJEaLnhR",
        "colab_type": "code",
        "colab": {}
      },
      "source": [
        "#인덱싱 - 가능\n",
        "#슬라이싱 - 가능\n",
        "# 곱하기 - 가능"
      ],
      "execution_count": 0,
      "outputs": []
    },
    {
      "cell_type": "code",
      "metadata": {
        "id": "HvrQdcxRMNso",
        "colab_type": "code",
        "colab": {
          "base_uri": "https://localhost:8080/",
          "height": 35
        },
        "outputId": "7e55e2c3-8a78-44a4-a511-febee30db29b"
      },
      "source": [
        "t1 = (1, 2, 'a', 'b')\n",
        "t1[1:]\n"
      ],
      "execution_count": 5,
      "outputs": [
        {
          "output_type": "execute_result",
          "data": {
            "text/plain": [
              "(2, 'a', 'b')"
            ]
          },
          "metadata": {
            "tags": []
          },
          "execution_count": 5
        }
      ]
    },
    {
      "cell_type": "code",
      "metadata": {
        "id": "7gbwYyQKMS6O",
        "colab_type": "code",
        "colab": {
          "base_uri": "https://localhost:8080/",
          "height": 35
        },
        "outputId": "999b2441-68dc-4e36-f4e7-143d555bab70"
      },
      "source": [
        "t2 = (3, 4)\n",
        "t1 + t2 "
      ],
      "execution_count": 6,
      "outputs": [
        {
          "output_type": "execute_result",
          "data": {
            "text/plain": [
              "(1, 2, 'a', 'b', 3, 4)"
            ]
          },
          "metadata": {
            "tags": []
          },
          "execution_count": 6
        }
      ]
    },
    {
      "cell_type": "code",
      "metadata": {
        "id": "bxG8gbx9MYMs",
        "colab_type": "code",
        "colab": {
          "base_uri": "https://localhost:8080/",
          "height": 35
        },
        "outputId": "08049d56-a4ea-4d7f-9ab1-7ee6453b8e09"
      },
      "source": [
        "t2 * 3\n"
      ],
      "execution_count": 7,
      "outputs": [
        {
          "output_type": "execute_result",
          "data": {
            "text/plain": [
              "(3, 4, 3, 4, 3, 4)"
            ]
          },
          "metadata": {
            "tags": []
          },
          "execution_count": 7
        }
      ]
    },
    {
      "cell_type": "code",
      "metadata": {
        "id": "PEJjb1PjMZpO",
        "colab_type": "code",
        "colab": {
          "base_uri": "https://localhost:8080/",
          "height": 35
        },
        "outputId": "1609e849-d995-41b9-889f-b991817e59d5"
      },
      "source": [
        "#나혼자 코딩\n",
        "t1 = (1, 2, 3)\n",
        "t2 = (4,)\n",
        "t1 + t2"
      ],
      "execution_count": 8,
      "outputs": [
        {
          "output_type": "execute_result",
          "data": {
            "text/plain": [
              "(1, 2, 3, 4)"
            ]
          },
          "metadata": {
            "tags": []
          },
          "execution_count": 8
        }
      ]
    },
    {
      "cell_type": "code",
      "metadata": {
        "id": "xXm2NtfcMnN0",
        "colab_type": "code",
        "colab": {}
      },
      "source": [
        ""
      ],
      "execution_count": 0,
      "outputs": []
    }
  ]
}