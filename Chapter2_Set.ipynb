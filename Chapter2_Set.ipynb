{
  "nbformat": 4,
  "nbformat_minor": 0,
  "metadata": {
    "colab": {
      "name": "Chapter2.Set",
      "provenance": [],
      "authorship_tag": "ABX9TyPHmlihozDURHQnid2Y91tD",
      "include_colab_link": true
    },
    "kernelspec": {
      "name": "python3",
      "display_name": "Python 3"
    }
  },
  "cells": [
    {
      "cell_type": "markdown",
      "metadata": {
        "id": "view-in-github",
        "colab_type": "text"
      },
      "source": [
        "<a href=\"https://colab.research.google.com/github/junuimoon/Doit-PYTHON/blob/master/Chapter2_Set.ipynb\" target=\"_parent\"><img src=\"https://colab.research.google.com/assets/colab-badge.svg\" alt=\"Open In Colab\"/></a>"
      ]
    },
    {
      "cell_type": "code",
      "metadata": {
        "id": "MxILwVzIk6Jg",
        "colab_type": "code",
        "colab": {
          "base_uri": "https://localhost:8080/",
          "height": 35
        },
        "outputId": "1f15f90c-429e-46a2-872a-0cf8d1f624c7"
      },
      "source": [
        "#집합은 중복을 허용하지 않고, 순서가 없다는 특징을 가짐 ( 리스트랑 튜플은 순서가 있기 때문에 인덱싱 가능)\n",
        "#튜플은 순서가 없어서 값을 못받음(딕셔너리랑 비슷)\n",
        "#집합 자료형은 어떻게 만들까?\n",
        "#set 키워드 이용하기.\n",
        "\n",
        "s1 = set([1, 2, 3])\n",
        "s1"
      ],
      "execution_count": 1,
      "outputs": [
        {
          "output_type": "execute_result",
          "data": {
            "text/plain": [
              "{1, 2, 3}"
            ]
          },
          "metadata": {
            "tags": []
          },
          "execution_count": 1
        }
      ]
    },
    {
      "cell_type": "code",
      "metadata": {
        "id": "zGRZ6wvblCXp",
        "colab_type": "code",
        "colab": {
          "base_uri": "https://localhost:8080/",
          "height": 35
        },
        "outputId": "89ecd8c3-6b50-44a2-dc53-268ef9f75673"
      },
      "source": [
        "s2 = set(\"Hello\") # 문자열 입력도 가능\n",
        "s2"
      ],
      "execution_count": 2,
      "outputs": [
        {
          "output_type": "execute_result",
          "data": {
            "text/plain": [
              "{'H', 'e', 'l', 'o'}"
            ]
          },
          "metadata": {
            "tags": []
          },
          "execution_count": 2
        }
      ]
    },
    {
      "cell_type": "code",
      "metadata": {
        "id": "aQ7zu8ydlJGn",
        "colab_type": "code",
        "colab": {
          "base_uri": "https://localhost:8080/",
          "height": 35
        },
        "outputId": "f5e1b617-2551-4dbf-e323-e27208558c26"
      },
      "source": [
        "#인덱싱 하고 싶으면 튜플로 자료형 변환 후 해야한다.\n",
        "s1 = set([1,2,3])\n",
        "l1 = list(s1)\n",
        "\n",
        "l1"
      ],
      "execution_count": 3,
      "outputs": [
        {
          "output_type": "execute_result",
          "data": {
            "text/plain": [
              "[1, 2, 3]"
            ]
          },
          "metadata": {
            "tags": []
          },
          "execution_count": 3
        }
      ]
    },
    {
      "cell_type": "code",
      "metadata": {
        "id": "mVqlhBSHl0sG",
        "colab_type": "code",
        "colab": {
          "base_uri": "https://localhost:8080/",
          "height": 35
        },
        "outputId": "a55ddd74-7a69-42b0-de72-c4c7854c538c"
      },
      "source": [
        "#교집합, 차집합 구하기\n",
        "\n",
        "s1 = set([1, 2, 3, 4, 5, 6])\n",
        "s2 = set([4, 5, 6, 7, 8, 9])\n",
        "\n",
        "#교집합\n",
        "s1 & s2\n",
        "\n",
        "s1.intersection(s2)\n",
        "\n"
      ],
      "execution_count": 7,
      "outputs": [
        {
          "output_type": "execute_result",
          "data": {
            "text/plain": [
              "{4, 5, 6}"
            ]
          },
          "metadata": {
            "tags": []
          },
          "execution_count": 7
        }
      ]
    },
    {
      "cell_type": "code",
      "metadata": {
        "id": "nONk-PVWmDR2",
        "colab_type": "code",
        "colab": {
          "base_uri": "https://localhost:8080/",
          "height": 35
        },
        "outputId": "286dbfe0-f693-40ec-b784-6bbf696c7a62"
      },
      "source": [
        "#합집합\n",
        "s1 | s2\n",
        "\n",
        "s1.union(s2)"
      ],
      "execution_count": 8,
      "outputs": [
        {
          "output_type": "execute_result",
          "data": {
            "text/plain": [
              "{1, 2, 3, 4, 5, 6, 7, 8, 9}"
            ]
          },
          "metadata": {
            "tags": []
          },
          "execution_count": 8
        }
      ]
    },
    {
      "cell_type": "code",
      "metadata": {
        "id": "2Hi4d66AmGz0",
        "colab_type": "code",
        "colab": {
          "base_uri": "https://localhost:8080/",
          "height": 35
        },
        "outputId": "d18f8281-6e59-4b8a-a9f6-bbf6d4df08f8"
      },
      "source": [
        "#차집합\n",
        "s1 - s2\n",
        "\n",
        "s1.difference(s2)"
      ],
      "execution_count": 10,
      "outputs": [
        {
          "output_type": "execute_result",
          "data": {
            "text/plain": [
              "{1, 2, 3}"
            ]
          },
          "metadata": {
            "tags": []
          },
          "execution_count": 10
        }
      ]
    },
    {
      "cell_type": "code",
      "metadata": {
        "id": "2JWhNbp4mSTd",
        "colab_type": "code",
        "colab": {}
      },
      "source": [
        "#집합 자료형 관련 함수\n",
        "\n",
        "# 값 1개 추가하기(add) - 1개, 여러개는 .update 사용, 삭제하고 싶을 때는 .remove 사용\n",
        "s1 = set([1, 2, 3])\n",
        "s1.add(4)"
      ],
      "execution_count": 0,
      "outputs": []
    },
    {
      "cell_type": "code",
      "metadata": {
        "id": "1ahuslgWmmry",
        "colab_type": "code",
        "colab": {
          "base_uri": "https://localhost:8080/",
          "height": 35
        },
        "outputId": "03005119-58f5-4f33-a47a-d8c70e5f1968"
      },
      "source": [
        "s1"
      ],
      "execution_count": 12,
      "outputs": [
        {
          "output_type": "execute_result",
          "data": {
            "text/plain": [
              "{1, 2, 3, 4}"
            ]
          },
          "metadata": {
            "tags": []
          },
          "execution_count": 12
        }
      ]
    },
    {
      "cell_type": "code",
      "metadata": {
        "id": "9j8Bq9THmnlE",
        "colab_type": "code",
        "colab": {
          "base_uri": "https://localhost:8080/",
          "height": 35
        },
        "outputId": "0a96d71e-826d-4b50-b2d9-35a70e293843"
      },
      "source": [
        "s1 = set([1, 2 ,3])\n",
        "s1.update([4, 5, 6])\n",
        "s1"
      ],
      "execution_count": 13,
      "outputs": [
        {
          "output_type": "execute_result",
          "data": {
            "text/plain": [
              "{1, 2, 3, 4, 5, 6}"
            ]
          },
          "metadata": {
            "tags": []
          },
          "execution_count": 13
        }
      ]
    },
    {
      "cell_type": "code",
      "metadata": {
        "id": "wMrNhlgcmtTW",
        "colab_type": "code",
        "colab": {}
      },
      "source": [
        ""
      ],
      "execution_count": 0,
      "outputs": []
    }
  ]
}