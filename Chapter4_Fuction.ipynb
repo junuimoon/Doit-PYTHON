{
  "nbformat": 4,
  "nbformat_minor": 0,
  "metadata": {
    "colab": {
      "name": "Chapter4.Fuction",
      "provenance": [],
      "authorship_tag": "ABX9TyPoGzOL8Gqc+m0+CEN63UHF",
      "include_colab_link": true
    },
    "kernelspec": {
      "name": "python3",
      "display_name": "Python 3"
    }
  },
  "cells": [
    {
      "cell_type": "markdown",
      "metadata": {
        "id": "view-in-github",
        "colab_type": "text"
      },
      "source": [
        "<a href=\"https://colab.research.google.com/github/junuimoon/Doit-PYTHON/blob/master/Chapter4_Fuction.ipynb\" target=\"_parent\"><img src=\"https://colab.research.google.com/assets/colab-badge.svg\" alt=\"Open In Colab\"/></a>"
      ]
    },
    {
      "cell_type": "code",
      "metadata": {
        "id": "9Xf3cjnUTONz",
        "colab_type": "code",
        "colab": {}
      },
      "source": [
        ""
      ],
      "execution_count": 0,
      "outputs": []
    },
    {
      "cell_type": "markdown",
      "metadata": {
        "id": "lIBOdupoTUys",
        "colab_type": "text"
      },
      "source": [
        "함수를 사용하는 이유??\n",
        "\n",
        "똑같은 내용을 반복하여 작성하기 귀찮고, 자신의 프로그램 흐름을 일목요연하게 볼수 있게 하도록!\n",
        " --> 오류 체크가 수월해짐.\n",
        "\n",
        " 파이썬 함수 구조는 def(a,b) 형식으로 이뤄짐."
      ]
    },
    {
      "cell_type": "code",
      "metadata": {
        "id": "FmDnWWHITh3w",
        "colab_type": "code",
        "colab": {}
      },
      "source": [
        "def add(a,b):\n",
        "    return a + b"
      ],
      "execution_count": 0,
      "outputs": []
    },
    {
      "cell_type": "code",
      "metadata": {
        "id": "VlbefJhxTkym",
        "colab_type": "code",
        "colab": {}
      },
      "source": [
        "a = 3\n",
        "b = 4\n",
        "c = add(a, b)"
      ],
      "execution_count": 0,
      "outputs": []
    },
    {
      "cell_type": "code",
      "metadata": {
        "id": "QMkmkxZMTqE3",
        "colab_type": "code",
        "colab": {
          "base_uri": "https://localhost:8080/",
          "height": 35
        },
        "outputId": "217805ec-32ad-4ccf-c7cb-331ca9a7a4ed"
      },
      "source": [
        "c"
      ],
      "execution_count": 3,
      "outputs": [
        {
          "output_type": "execute_result",
          "data": {
            "text/plain": [
              "7"
            ]
          },
          "metadata": {
            "tags": []
          },
          "execution_count": 3
        }
      ]
    },
    {
      "cell_type": "markdown",
      "metadata": {
        "id": "Ez7oCT2hTsIs",
        "colab_type": "text"
      },
      "source": [
        "매개변수는 입력으로 전달된 값 받는 변수, 인수는 함수를 호출할 때 전달하는 입력값"
      ]
    },
    {
      "cell_type": "code",
      "metadata": {
        "id": "3SS5I3CmT2oH",
        "colab_type": "code",
        "colab": {
          "base_uri": "https://localhost:8080/",
          "height": 35
        },
        "outputId": "c1b495d6-10b1-438b-b9f5-88733ae78ca0"
      },
      "source": [
        "def add(a,b): # a,b 는 매개변수로 취급\n",
        "    return a + b\n",
        "\n",
        "print(add(3,4)) # 입력하는 값이니깐 얘들은 인수"
      ],
      "execution_count": 4,
      "outputs": [
        {
          "output_type": "stream",
          "text": [
            "7\n"
          ],
          "name": "stdout"
        }
      ]
    },
    {
      "cell_type": "code",
      "metadata": {
        "id": "zx8yxRsIUAQi",
        "colab_type": "code",
        "colab": {}
      },
      "source": [
        "#일반적인 함수는 결괏값을 돌려줌\n",
        "\n",
        "def add(a,b):\n",
        "    result = a + b\n",
        "    return result"
      ],
      "execution_count": 0,
      "outputs": []
    },
    {
      "cell_type": "code",
      "metadata": {
        "id": "miMGhL53UKj5",
        "colab_type": "code",
        "colab": {
          "base_uri": "https://localhost:8080/",
          "height": 35
        },
        "outputId": "646a31b6-c1b6-4210-e4e9-20e478ae2854"
      },
      "source": [
        "# 입력값이 없는 애들도 있음.\n",
        "\n",
        "def say():\n",
        "    return 'Hi'\n",
        "\n",
        "# 대신 호출해주려면 변수를 받아줘야됨.\n",
        "\n",
        "a = say()\n",
        "print(a)"
      ],
      "execution_count": 6,
      "outputs": [
        {
          "output_type": "stream",
          "text": [
            "Hi\n"
          ],
          "name": "stdout"
        }
      ]
    },
    {
      "cell_type": "code",
      "metadata": {
        "id": "2iboJsGDUXS7",
        "colab_type": "code",
        "colab": {
          "base_uri": "https://localhost:8080/",
          "height": 35
        },
        "outputId": "dd1b7a33-6129-4eda-d2d5-feb1538b0334"
      },
      "source": [
        "say()"
      ],
      "execution_count": 7,
      "outputs": [
        {
          "output_type": "execute_result",
          "data": {
            "text/plain": [
              "'Hi'"
            ]
          },
          "metadata": {
            "tags": []
          },
          "execution_count": 7
        }
      ]
    },
    {
      "cell_type": "code",
      "metadata": {
        "id": "hGhSRtnxUYW3",
        "colab_type": "code",
        "colab": {
          "base_uri": "https://localhost:8080/",
          "height": 35
        },
        "outputId": "d0c7113e-8bd8-4ec0-885a-eecf01401d73"
      },
      "source": [
        "#결괏값이 없는 함수 역시 존재한다.\n",
        "\n",
        "def add(a,b):\n",
        "    print(\"%d, %d의 합은 %d입니다.\" %(a, b, a+b)) # 얘들은 매개변수로, 1번 유형인 인수와는 전혀 다른 관게를 가진다.\n",
        "\n",
        "add(3, 4)"
      ],
      "execution_count": 9,
      "outputs": [
        {
          "output_type": "stream",
          "text": [
            "3, 4의 합은 7입니다.\n"
          ],
          "name": "stdout"
        }
      ]
    },
    {
      "cell_type": "code",
      "metadata": {
        "id": "_a17I22FUklV",
        "colab_type": "code",
        "colab": {
          "base_uri": "https://localhost:8080/",
          "height": 35
        },
        "outputId": "eab927c1-c4e9-4e2e-9a93-403668ddd384"
      },
      "source": [
        "a = add(3,4)"
      ],
      "execution_count": 10,
      "outputs": [
        {
          "output_type": "stream",
          "text": [
            "3, 4의 합은 7입니다.\n"
          ],
          "name": "stdout"
        }
      ]
    },
    {
      "cell_type": "code",
      "metadata": {
        "id": "x3AuIxf1U0V2",
        "colab_type": "code",
        "colab": {
          "base_uri": "https://localhost:8080/",
          "height": 35
        },
        "outputId": "9e72834e-5931-4623-bd29-48b79ba07a58"
      },
      "source": [
        "print(a) #결괏값이 없기 때문에 아무것도 반환하지 않고 있음"
      ],
      "execution_count": 12,
      "outputs": [
        {
          "output_type": "stream",
          "text": [
            "None\n"
          ],
          "name": "stdout"
        }
      ]
    },
    {
      "cell_type": "code",
      "metadata": {
        "id": "jaNqd-sjU1CE",
        "colab_type": "code",
        "colab": {
          "base_uri": "https://localhost:8080/",
          "height": 35
        },
        "outputId": "4497fdff-1a21-4bd2-8d40-bf950d00db91"
      },
      "source": [
        "#매개변수 지정하여 호출 가능하다.\n",
        "def add(a,b):\n",
        "    return a+b\n",
        "\n",
        "result = add(a=4, b=5) # 매개변수 순서 신경 안써도 된다는 장점.\n",
        "print(result)"
      ],
      "execution_count": 13,
      "outputs": [
        {
          "output_type": "stream",
          "text": [
            "9\n"
          ],
          "name": "stdout"
        }
      ]
    },
    {
      "cell_type": "code",
      "metadata": {
        "id": "4eJzurbnVGER",
        "colab_type": "code",
        "colab": {}
      },
      "source": [
        "#입력값이 몇개가 될지 모를때"
      ],
      "execution_count": 0,
      "outputs": []
    },
    {
      "cell_type": "code",
      "metadata": {
        "id": "y4qRfcB_VOFS",
        "colab_type": "code",
        "colab": {
          "base_uri": "https://localhost:8080/",
          "height": 35
        },
        "outputId": "9c5888c5-04a2-40c5-ac48-3a368957a723"
      },
      "source": [
        "def add_many(*args): # 모아서 튜플로 만들어주고, 그래서 더해주기 가능해짐.\n",
        "    result = 0\n",
        "    for i in args:\n",
        "        result += i\n",
        "    return result\n",
        "\n",
        "result = add_many(1, 2, 3)\n",
        "result"
      ],
      "execution_count": 15,
      "outputs": [
        {
          "output_type": "execute_result",
          "data": {
            "text/plain": [
              "6"
            ]
          },
          "metadata": {
            "tags": []
          },
          "execution_count": 15
        }
      ]
    },
    {
      "cell_type": "code",
      "metadata": {
        "id": "hHCgFQb1VjT7",
        "colab_type": "code",
        "colab": {
          "base_uri": "https://localhost:8080/",
          "height": 35
        },
        "outputId": "42f8bd32-e456-476f-bbe7-f4b1c6c79bfc"
      },
      "source": [
        "result = add_many(1, 2, 3, 4, 5, 6, 7, 8, 9)\n",
        "result"
      ],
      "execution_count": 16,
      "outputs": [
        {
          "output_type": "execute_result",
          "data": {
            "text/plain": [
              "45"
            ]
          },
          "metadata": {
            "tags": []
          },
          "execution_count": 16
        }
      ]
    },
    {
      "cell_type": "code",
      "metadata": {
        "id": "tL2HdJbMVnsQ",
        "colab_type": "code",
        "colab": {}
      },
      "source": [
        "\n",
        "def add_mul(choice, *args): #튜플, 리스트에서는 * 1개 사용하고, 딕셔너리에서는 **사용하면 됨.\n",
        "    if choice == \"add\":\n",
        "        result = 0\n",
        "        for i in args:\n",
        "            result += i\n",
        "    elif choice == \"mul\":\n",
        "        result = 1\n",
        "        for i in args:\n",
        "            result = result * i\n",
        "    return result\n",
        "\n"
      ],
      "execution_count": 0,
      "outputs": []
    },
    {
      "cell_type": "code",
      "metadata": {
        "id": "rwoJOrj9V8H9",
        "colab_type": "code",
        "colab": {
          "base_uri": "https://localhost:8080/",
          "height": 35
        },
        "outputId": "850fe6dd-e4e9-4b7b-b20a-444d95988a53"
      },
      "source": [
        "def print_kwargs(**kwargs):\n",
        "    print(kwargs)\n",
        "\n",
        "print_kwargs(a=1)"
      ],
      "execution_count": 19,
      "outputs": [
        {
          "output_type": "stream",
          "text": [
            "{'a': 1}\n"
          ],
          "name": "stdout"
        }
      ]
    },
    {
      "cell_type": "code",
      "metadata": {
        "id": "GG5z75XQWWB6",
        "colab_type": "code",
        "colab": {
          "base_uri": "https://localhost:8080/",
          "height": 35
        },
        "outputId": "9cc90a6f-b9b1-4c48-98bc-cb40f2246f35"
      },
      "source": [
        "#함수의 결괏값은 언제나 하나이다.\n",
        "\n",
        "def add_and_mul(a,b):\n",
        "    return a+b, a*b\n",
        "\n",
        "\n",
        "result = add_and_mul(3,4)\n",
        "result  #튜플로 묶어주기때문에, 어쨋든 결과는 한개임."
      ],
      "execution_count": 21,
      "outputs": [
        {
          "output_type": "execute_result",
          "data": {
            "text/plain": [
              "(7, 12)"
            ]
          },
          "metadata": {
            "tags": []
          },
          "execution_count": 21
        }
      ]
    },
    {
      "cell_type": "code",
      "metadata": {
        "id": "ZhpzhotLWn89",
        "colab_type": "code",
        "colab": {}
      },
      "source": [
        "def say_nick(nick):\n",
        "    if nick == \"바보\":\n",
        "        return\n",
        "    print(\"나의 별명은 %s입니다.\" % nick)"
      ],
      "execution_count": 0,
      "outputs": []
    },
    {
      "cell_type": "code",
      "metadata": {
        "id": "tjCcUezlXBeS",
        "colab_type": "code",
        "colab": {
          "base_uri": "https://localhost:8080/",
          "height": 35
        },
        "outputId": "0bfb763e-4ed9-47c4-b57c-8bae8d95f670"
      },
      "source": [
        "say_nick('야호')"
      ],
      "execution_count": 23,
      "outputs": [
        {
          "output_type": "stream",
          "text": [
            "나의 별명은 야호입니다.\n"
          ],
          "name": "stdout"
        }
      ]
    },
    {
      "cell_type": "code",
      "metadata": {
        "id": "ovqh4khXXI_5",
        "colab_type": "code",
        "colab": {
          "base_uri": "https://localhost:8080/",
          "height": 35
        },
        "outputId": "6b37768a-dd98-4504-ad29-c6f538420b41"
      },
      "source": [
        "#함수 안에서 선언한 변수의 효력 범위\n",
        "\n",
        "a = 1\n",
        "def vartest(a):\n",
        "    a = a+1\n",
        "\n",
        "vartest(a)\n",
        "print(a) # 함수 안에서 사용하는 매개변수는 함부 밖의 변수와는 전혀 상관이 없다."
      ],
      "execution_count": 25,
      "outputs": [
        {
          "output_type": "stream",
          "text": [
            "1\n"
          ],
          "name": "stdout"
        }
      ]
    },
    {
      "cell_type": "code",
      "metadata": {
        "id": "Unw0ht1zYl-A",
        "colab_type": "code",
        "colab": {
          "base_uri": "https://localhost:8080/",
          "height": 35
        },
        "outputId": "d71ce137-d8b6-413e-d6b4-6cec1f3c73be"
      },
      "source": [
        "vartest(3)\n",
        "print(a)"
      ],
      "execution_count": 26,
      "outputs": [
        {
          "output_type": "stream",
          "text": [
            "1\n"
          ],
          "name": "stdout"
        }
      ]
    },
    {
      "cell_type": "code",
      "metadata": {
        "id": "14US-b_3YyOU",
        "colab_type": "code",
        "colab": {
          "base_uri": "https://localhost:8080/",
          "height": 35
        },
        "outputId": "85009580-1720-4232-8de6-22e0ea960dc4"
      },
      "source": [
        "# 함수 안에서 함수 밖의 변수를 변경하는 것 --- 1. return문, 2.global 명령어 사용.\n",
        "\n",
        "a = 1\n",
        "def vartest(a):\n",
        "    a = a +1\n",
        "    return a\n",
        "\n",
        "a = vartest(a) # 형식상 값만 가져온거지, 사실 함수 안의 a와 밖의 a는 다른 애임.\n",
        "print(a)"
      ],
      "execution_count": 28,
      "outputs": [
        {
          "output_type": "stream",
          "text": [
            "2\n"
          ],
          "name": "stdout"
        }
      ]
    },
    {
      "cell_type": "code",
      "metadata": {
        "id": "52Vq8utkZCrn",
        "colab_type": "code",
        "colab": {
          "base_uri": "https://localhost:8080/",
          "height": 35
        },
        "outputId": "380769b4-49c7-4f27-b55c-6c9b613abb3c"
      },
      "source": [
        "a = 1\n",
        "def vartest():\n",
        "    global a\n",
        "    a = a +1\n",
        "\n",
        "vartest()\n",
        "print(a)"
      ],
      "execution_count": 29,
      "outputs": [
        {
          "output_type": "stream",
          "text": [
            "2\n"
          ],
          "name": "stdout"
        }
      ]
    },
    {
      "cell_type": "code",
      "metadata": {
        "id": "v-VP7XLOZTIM",
        "colab_type": "code",
        "colab": {
          "base_uri": "https://localhost:8080/",
          "height": 35
        },
        "outputId": "e66dc28e-1c6c-4cde-d2dc-0c7211075e42"
      },
      "source": [
        "#람다식  --> 식을 간결하게 만들고 싶을때 사용하는 것. 람다식은 리턴 명령어 없어도 결괏값을 돌려준다는 게 특징이다.\n",
        "\n",
        "add = lambda a, b: a + b\n",
        "result = add(3,4)\n",
        "print(result)"
      ],
      "execution_count": 30,
      "outputs": [
        {
          "output_type": "stream",
          "text": [
            "7\n"
          ],
          "name": "stdout"
        }
      ]
    },
    {
      "cell_type": "markdown",
      "metadata": {
        "id": "Q2hmfE_XZoBg",
        "colab_type": "text"
      },
      "source": [
        "04 - 2. 사용자 입력과 출력"
      ]
    },
    {
      "cell_type": "code",
      "metadata": {
        "id": "WpCzc_KyZsQ0",
        "colab_type": "code",
        "colab": {}
      },
      "source": [
        "#사용자 입력 -> input 사용하기, 프롬프트 값을 띄워서 사용자 입력받기.\n",
        "#큰따옴표로 둘러싸인 문자열은 +연산과 동일하게 처리해준다."
      ],
      "execution_count": 0,
      "outputs": []
    },
    {
      "cell_type": "code",
      "metadata": {
        "id": "vUKtxi38Z8z3",
        "colab_type": "code",
        "colab": {
          "base_uri": "https://localhost:8080/",
          "height": 35
        },
        "outputId": "6e85bf1b-fa3f-4494-e186-e6f9fa8d6e6e"
      },
      "source": [
        "print(\"life\" \"is\" \"too\" \"short\")"
      ],
      "execution_count": 32,
      "outputs": [
        {
          "output_type": "stream",
          "text": [
            "lifeistooshort\n"
          ],
          "name": "stdout"
        }
      ]
    },
    {
      "cell_type": "code",
      "metadata": {
        "id": "Aah-bBOhaBjj",
        "colab_type": "code",
        "colab": {}
      },
      "source": [
        "#문자열 띄어쓰기는 콤마로 하면 가능하다."
      ],
      "execution_count": 0,
      "outputs": []
    },
    {
      "cell_type": "code",
      "metadata": {
        "id": "UJ_dIMVfaGnT",
        "colab_type": "code",
        "colab": {
          "base_uri": "https://localhost:8080/",
          "height": 35
        },
        "outputId": "156de3c4-f3e7-4af0-f19e-04522b15a12b"
      },
      "source": [
        "#한줄에 쓰려면? 매개변수 end사용하면 된다.\n",
        "\n",
        "for i in range(10):\n",
        "    print(i, end=\" \")"
      ],
      "execution_count": 34,
      "outputs": [
        {
          "output_type": "stream",
          "text": [
            "0 1 2 3 4 5 6 7 8 9 "
          ],
          "name": "stdout"
        }
      ]
    },
    {
      "cell_type": "markdown",
      "metadata": {
        "id": "F-LdUlqzaPNZ",
        "colab_type": "text"
      },
      "source": [
        "04 - 3. 파일 읽고 쓰기"
      ]
    },
    {
      "cell_type": "code",
      "metadata": {
        "id": "pTVDrELraRcf",
        "colab_type": "code",
        "colab": {}
      },
      "source": [
        "#파일 생성하기.\n",
        "\n",
        "f = open(\"새파일.txt\", 'w')\n",
        "f.close()"
      ],
      "execution_count": 0,
      "outputs": []
    },
    {
      "cell_type": "code",
      "metadata": {
        "id": "qUuNn_7baZfU",
        "colab_type": "code",
        "colab": {}
      },
      "source": [
        ""
      ],
      "execution_count": 0,
      "outputs": []
    }
  ]
}